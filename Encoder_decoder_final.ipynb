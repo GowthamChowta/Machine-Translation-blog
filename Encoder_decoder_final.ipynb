{
  "nbformat": 4,
  "nbformat_minor": 0,
  "metadata": {
    "colab": {
      "name": "Encoder_decoder_blog",
      "provenance": [],
      "collapsed_sections": []
    },
    "kernelspec": {
      "name": "python3",
      "display_name": "Python 3"
    },
    "accelerator": "GPU"
  },
  "cells": [
    {
      "cell_type": "code",
      "metadata": {
        "id": "PRs8Aj3JYONA",
        "colab_type": "code",
        "colab": {}
      },
      "source": [
        "!wget --header=\"Host: www.manythings.org\" --header=\"User-Agent: Mozilla/5.0 (Windows NT 10.0; Win64; x64) AppleWebKit/537.36 (KHTML, like Gecko) Chrome/81.0.4044.113 Safari/537.36\" --header=\"Accept: text/html,application/xhtml+xml,application/xml;q=0.9,image/webp,image/apng,*/*;q=0.8,application/signed-exchange;v=b3;q=0.9\" --header=\"Accept-Language: en-IN,en;q=0.9,en-US;q=0.8,te;q=0.7\" --header=\"Referer: https://colab.research.google.com/\" --header=\"Cookie: __cfduid=dde45c9abac49727094edb9704ceb6c4a1587288097; __utma=3028652.767071753.1587288101.1587288101.1587288101.1; __utmz=3028652.1587288101.1.1.utmcsr=(direct)|utmccn=(direct)|utmcmd=(none)\" --header=\"Connection: keep-alive\" \"http://www.manythings.org/anki/ita-eng.zip\" -c -O 'ita-eng.zip'"
      ],
      "execution_count": 0,
      "outputs": []
    },
    {
      "cell_type": "code",
      "metadata": {
        "id": "gCmhNDaDYRSQ",
        "colab_type": "code",
        "outputId": "6c32bab3-684d-4564-b4fa-4ec536d3ad2b",
        "colab": {
          "base_uri": "https://localhost:8080/",
          "height": 104
        }
      },
      "source": [
        "from zipfile import ZipFile \n",
        "  \n",
        "# specifying the zip file name \n",
        "file_name = \"ita-eng.zip\"\n",
        "  \n",
        "# opening the zip file in READ mode \n",
        "with ZipFile(file_name, 'r') as zip: \n",
        "    # printing all the contents of the zip file \n",
        "    zip.printdir() \n",
        "  \n",
        "    # extracting all the files \n",
        "    print('Extracting all the files now...') \n",
        "    zip.extractall() \n",
        "    print('Done!')\n",
        "del zip"
      ],
      "execution_count": 2,
      "outputs": [
        {
          "output_type": "stream",
          "text": [
            "File Name                                             Modified             Size\n",
            "ita.txt                                        2020-03-15 02:17:06     47927476\n",
            "_about.txt                                     2020-03-15 02:17:06         1441\n",
            "Extracting all the files now...\n",
            "Done!\n"
          ],
          "name": "stdout"
        }
      ]
    },
    {
      "cell_type": "code",
      "metadata": {
        "id": "mmcrrxszGorZ",
        "colab_type": "code",
        "colab": {}
      },
      "source": [
        "import warnings\n",
        "warnings.filterwarnings(\"ignore\")\n",
        "import tensorflow as tf\n",
        "tf.compat.v1.enable_eager_execution()\n",
        "import os\n",
        "import re\n",
        "path=os.getcwd()+'/ita.txt'\n",
        "# To read the file\n",
        "import io\n",
        "import numpy as np\n",
        "# For normalizing data\n",
        "import unicodedata\n",
        "# Tensorflow libraries\n",
        "from tensorflow.keras.preprocessing.text import Tokenizer \n",
        "from tensorflow.keras.preprocessing.sequence import pad_sequences \n",
        "from tensorflow.keras.layers import Input, Softmax, RNN, Dense, Embedding, LSTM,TimeDistributed\n",
        "from tensorflow.keras.models import Model\n",
        "from tensorflow.keras import backend as K\n",
        "# Metric that can tell the strength of relation between two sentences\n",
        "import nltk.translate.bleu_score as bleu"
      ],
      "execution_count": 0,
      "outputs": []
    },
    {
      "cell_type": "code",
      "metadata": {
        "id": "OG2bcX-lGh0y",
        "colab_type": "code",
        "colab": {}
      },
      "source": [
        "K.clear_session()"
      ],
      "execution_count": 0,
      "outputs": []
    },
    {
      "cell_type": "code",
      "metadata": {
        "id": "cO5-FIaLGyLz",
        "colab_type": "code",
        "colab": {}
      },
      "source": [
        "# Converting into unicode --http://stackoverflow.com/a/518232/2809427\n",
        "def unicode_to_ascii(s):\n",
        "    return ''.join(\n",
        "        c for c in unicodedata.normalize('NFD', s)\n",
        "        if unicodedata.category(c) != 'Mn')\n",
        "\n",
        "# Function to convert into lower case, remove punctuation.\n",
        "def normalize_string(s):\n",
        "    s = unicode_to_ascii(s.lower().strip())\n",
        "    s = re.sub(r'([!.?])', r' \\1', s)\n",
        "    s = re.sub(r'[^a-zA-Z.!?]+', r' ', s)\n",
        "    s = re.sub(r'\\s+', r' ', s)\n",
        "    return s"
      ],
      "execution_count": 0,
      "outputs": []
    },
    {
      "cell_type": "code",
      "metadata": {
        "id": "LSXF_FRqGyIw",
        "colab_type": "code",
        "colab": {}
      },
      "source": [
        "# To open the file and read line by line\n",
        "lines=io.open(path,encoding='UTF-8').read().split('\\n')"
      ],
      "execution_count": 0,
      "outputs": []
    },
    {
      "cell_type": "code",
      "metadata": {
        "id": "nNtYvuCQP1M2",
        "colab_type": "code",
        "outputId": "1a72c237-2e6a-493f-dd35-b25338e911af",
        "colab": {
          "base_uri": "https://localhost:8080/",
          "height": 35
        }
      },
      "source": [
        "# Raw data\n",
        "lines[9010]"
      ],
      "execution_count": 0,
      "outputs": [
        {
          "output_type": "execute_result",
          "data": {
            "text/plain": [
              "'Keep focused.\\tRimanga concentrata.\\tCC-BY 2.0 (France) Attribution: tatoeba.org #2111647 (CK) & #5403202 (Guybrush88)'"
            ]
          },
          "metadata": {
            "tags": []
          },
          "execution_count": 51
        }
      ]
    },
    {
      "cell_type": "code",
      "metadata": {
        "id": "VHDpJfZqGyGa",
        "colab_type": "code",
        "colab": {}
      },
      "source": [
        "\n",
        "def makedata(num_examples):\n",
        "    '''\n",
        "      The function will return eng - Ita sentences pairs\n",
        "    '''\n",
        "    ita_data=[]\n",
        "    eng_data=[]\n",
        "    eng_in=[]\n",
        "    eng_out=[]\n",
        "    for i in range(num_examples):\n",
        "        \n",
        "        eng,ita,_=lines[i].split('\\t')\n",
        "        \n",
        "        # lines = 'Step back.\\tFaccia un passo indietro.\\tCC-BY 2.0 (France) Attribution: tatoeba.org #1553393 (CK) & #5282708 (Guybrush88)'\n",
        "        # eng = Step back.\n",
        "        # ita = Faccia un passo indietro.\n",
        "\n",
        "        eng=normalize_string(eng)\n",
        "        ita=normalize_string(ita)\n",
        "\n",
        "        # For decoder input we will add start tag\n",
        "        eng_in_='<start> '+eng\n",
        "        # For decoder output we will add end tag\n",
        "        eng_out_= eng + ' <end>'\n",
        "        eng= '<start> ' +eng + ' <end>'\n",
        "        ita_data.append(ita)\n",
        "        eng_in.append(eng_in_)\n",
        "        eng_out.append(eng_out_)\n",
        "        eng_data.append(eng)\n",
        "    \n",
        "    return ita_data,eng_in,eng_out,eng_data\n",
        "\n",
        "\n"
      ],
      "execution_count": 0,
      "outputs": []
    },
    {
      "cell_type": "code",
      "metadata": {
        "id": "nOlKOjhMdR7T",
        "colab_type": "code",
        "outputId": "718db191-848c-443e-8341-1247000b190c",
        "colab": {
          "base_uri": "https://localhost:8080/",
          "height": 35
        }
      },
      "source": [
        "len(lines)"
      ],
      "execution_count": 0,
      "outputs": [
        {
          "output_type": "execute_result",
          "data": {
            "text/plain": [
              "336615"
            ]
          },
          "metadata": {
            "tags": []
          },
          "execution_count": 15
        }
      ]
    },
    {
      "cell_type": "code",
      "metadata": {
        "id": "6Xmr61PyItK7",
        "colab_type": "code",
        "colab": {}
      },
      "source": [
        "num_examples=20000\n",
        "ita_data,eng_in,eng_out,eng_data=makedata(num_examples)"
      ],
      "execution_count": 0,
      "outputs": []
    },
    {
      "cell_type": "code",
      "metadata": {
        "id": "i6HyhlN-3REb",
        "colab_type": "code",
        "outputId": "feb37dff-2c01-4c08-8e33-2f637ecf3fad",
        "colab": {
          "base_uri": "https://localhost:8080/",
          "height": 69
        }
      },
      "source": [
        "print('Encoder  input:',ita_data[-1][:-1])\n",
        "print('Decoder  input:',eng_in[-1][:-1])\n",
        "print('Decoder output:', eng_in[-1][8:-1]+'<end>')"
      ],
      "execution_count": 17,
      "outputs": [
        {
          "output_type": "stream",
          "text": [
            "Encoder  input: ciao \n",
            "Decoder  input: <start> hi \n",
            "Decoder output: hi <end>\n"
          ],
          "name": "stdout"
        }
      ]
    },
    {
      "cell_type": "code",
      "metadata": {
        "id": "tcZ84kTmGyDo",
        "colab_type": "code",
        "colab": {}
      },
      "source": [
        "# Converting the text data to integer words\n",
        "\n",
        "# Declare a tokenizer\n",
        "ita_tokenizer=Tokenizer(filters='')\n",
        "# Fit the tokenizer on Italy language pairs\n",
        "ita_tokenizer.fit_on_texts(ita_data)\n",
        "# inp_lan will have an integer represented for each word\n",
        "inp_lan=ita_tokenizer.texts_to_sequences(ita_data)\n",
        "# Pad sequences (By default it will pad zeros till the max length of the ita_data)\n",
        "inp_lan=pad_sequences(inp_lan,padding='post')\n",
        "# Here inp_lan is the encoder input data."
      ],
      "execution_count": 0,
      "outputs": []
    },
    {
      "cell_type": "code",
      "metadata": {
        "id": "xnS3lfEDGx5s",
        "colab_type": "code",
        "colab": {}
      },
      "source": [
        "print('Encoder input Text data:',ita_data[9010])\n",
        "print('Integer representation: ',inp_lan[9010])\n",
        "print('Decoder input Text data:',eng_in[9010])\n",
        "print('Integer representation: ',tar_lan_in[9010])\n",
        "print('Decoder output Text data:',eng_out[9010])\n",
        "print('Integer representation: ',tar_lan_out[9010])\n"
      ],
      "execution_count": 0,
      "outputs": []
    },
    {
      "cell_type": "code",
      "metadata": {
        "id": "9b3mbkW0Gx3N",
        "colab_type": "code",
        "colab": {}
      },
      "source": [
        "# Declare the tokenizer for english words\n",
        "eng_tokenizer=Tokenizer(filters='')\n",
        "# we are fitting on eng_data not on eng_in or eng_out as it has both <start> and <end> tags\n",
        "eng_tokenizer.fit_on_texts(eng_data)"
      ],
      "execution_count": 0,
      "outputs": []
    },
    {
      "cell_type": "code",
      "metadata": {
        "id": "pOstRXynKHP7",
        "colab_type": "code",
        "colab": {}
      },
      "source": [
        "# Decoder input data\n",
        "tar_lan_in=eng_tokenizer.texts_to_sequences(eng_in)\n",
        "tar_lan_in=pad_sequences(tar_lan_in,padding='post')"
      ],
      "execution_count": 0,
      "outputs": []
    },
    {
      "cell_type": "code",
      "metadata": {
        "id": "-NE0_iY1Gx0M",
        "colab_type": "code",
        "colab": {}
      },
      "source": [
        "# Decoder output data\n",
        "tar_lan_out=eng_tokenizer.texts_to_sequences(eng_out)\n",
        "tar_lan_out=pad_sequences(tar_lan_out,padding='post')\n"
      ],
      "execution_count": 0,
      "outputs": []
    },
    {
      "cell_type": "code",
      "metadata": {
        "id": "M0M67LwQ7ghd",
        "colab_type": "code",
        "colab": {}
      },
      "source": [
        "# Max length of input_sequence, max_length of target sequence \n",
        "inp_seq_length=inp_lan[0].shape[0]\n",
        "tar_seq_length=tar_lan_in[0].shape[0]"
      ],
      "execution_count": 0,
      "outputs": []
    },
    {
      "cell_type": "code",
      "metadata": {
        "id": "3orPx6JTD4OJ",
        "colab_type": "code",
        "colab": {}
      },
      "source": [
        "# Total number of unique words in Italian sentence \n",
        "ita_vocab_size=len(ita_tokenizer.word_index)+1\n",
        "# Total number of unique words in english sentence\n",
        "eng_vocab_size=len(eng_tokenizer.word_index)+1"
      ],
      "execution_count": 0,
      "outputs": []
    },
    {
      "cell_type": "code",
      "metadata": {
        "id": "qyWwqyZpAF9W",
        "colab_type": "code",
        "colab": {}
      },
      "source": [
        "# Max length of input_sequence, max_length of target sequence \n",
        "inp_seq_length=inp_lan[0].shape[0]\n",
        "tar_seq_length=tar_lan_in[0].shape[0]\n",
        "\n",
        "eng_index_word={}\n",
        "eng_word_index={}\n",
        "for key,value in eng_tokenizer.word_index.items():\n",
        "  eng_index_word[value]=key \n",
        "  eng_word_index[key]=value\n",
        "\n"
      ],
      "execution_count": 0,
      "outputs": []
    },
    {
      "cell_type": "code",
      "metadata": {
        "id": "khmLZMzd7Kpl",
        "colab_type": "code",
        "outputId": "ffad8569-8e0a-4d88-c6ff-f0106f786592",
        "colab": {
          "base_uri": "https://localhost:8080/",
          "height": 104
        }
      },
      "source": [
        "print('input lang in',inp_lan.shape)\n",
        "print('target lang in',tar_lan_in.shape)\n",
        "print('target lang out',tar_lan_out.shape)\n",
        "\n",
        "# Total number of unique words in Italian sentence \n",
        "ita_vocab_size=len(ita_tokenizer.word_index)+1\n",
        "# Total number of unique words in english sentence\n",
        "eng_vocab_size=len(eng_tokenizer.word_index)+1\n",
        "\n",
        "print('English vocab size',eng_vocab_size)\n",
        "print('Italy vocab size',ita_vocab_size)\n",
        "#print(ita_tokenizer_in.word_index)"
      ],
      "execution_count": 23,
      "outputs": [
        {
          "output_type": "stream",
          "text": [
            "input lang in (20000, 9)\n",
            "target lang in (20000, 7)\n",
            "target lang out (20000, 7)\n",
            "English vocab size 2250\n",
            "Italy vocab size 5524\n"
          ],
          "name": "stdout"
        }
      ]
    },
    {
      "cell_type": "markdown",
      "metadata": {
        "id": "ZAuaq-DRTJp6",
        "colab_type": "text"
      },
      "source": [
        "### Building Model :"
      ]
    },
    {
      "cell_type": "code",
      "metadata": {
        "id": "pAG7pwvCv091",
        "colab_type": "code",
        "colab": {}
      },
      "source": [
        "#Encoder input shape will be (Batch_size,inp_seq_length) --\n",
        "input_encoder=Input(shape=(inp_seq_length,))\n",
        "\n",
        "# Encoder LSTM needs the input to be 3 dim. One easy way to add a dimension to this integer sequences is to add a Embedding layer.\n",
        "\n",
        "# input_encoder is passed to the embedding layer.  \n",
        "encoder_embedding=Embedding(input_dim=ita_vocab_size,output_dim=128)(input_encoder)\n",
        "# encoder_embedding shape is (Batch_size,inp_seq_length,output_dim) --\n",
        "# Trainable paramters is ita_vocab_size * 128. \n",
        "# Each integer in the input_encoder is converted to 128 dimensional vector\n",
        "\n",
        "\n",
        "encoder_lstm=LSTM(256,return_state=True)(encoder_embedding)\n",
        "# Encoder_LSTM will return three arrays \n",
        "# 1. hidden_state/output of the last time step (None,256), \n",
        "# 2. hidden_state/ output of the last time step(None,256), \n",
        "# 2. cell_state of the last time step (None,256)\n"
      ],
      "execution_count": 0,
      "outputs": []
    },
    {
      "cell_type": "code",
      "metadata": {
        "id": "mvquzPNZyST_",
        "colab_type": "code",
        "colab": {}
      },
      "source": [
        "encoder_states=encoder_lstm[1:]\n",
        "# Select the last two hidden states."
      ],
      "execution_count": 0,
      "outputs": []
    },
    {
      "cell_type": "code",
      "metadata": {
        "id": "nBA2P6liwf_j",
        "colab_type": "code",
        "colab": {}
      },
      "source": [
        "# Decoder input, we will keep the shape (None). Note: If none it can accept any size of data in dimension\n",
        "# The reason we are not fixing the input_decoder to max_length is during \n",
        "# inference we will be sending only one input at a time step and predict. \n",
        "\n",
        "input_decoder = Input(shape=(None,))\n",
        "# input_decoder shape is (None,None)\n",
        "\n",
        "decoder_embedding_layer=Embedding(input_dim=eng_vocab_size,output_dim=128)\n",
        "decoder_embedding_output=decoder_embedding_layer(input_decoder)\n",
        "# decoder_embedding_layer - (None,None,128) \n",
        "\n",
        "decoder_lstm=LSTM(256,return_sequences=True,return_state=True)\n",
        "decoder_output,_,_=decoder_lstm(decoder_embedding_output,initial_state=encoder_states)\n",
        "# decoder_lstm will return three outputs\n",
        "# 1. All the hiddenstate/output at each time step (None,None,256)\n",
        "# 2. hiddenstate/output at last time step (None,256)\n",
        "# 3. Cell state at last time step (None,256)\n"
      ],
      "execution_count": 0,
      "outputs": []
    },
    {
      "cell_type": "code",
      "metadata": {
        "id": "bE9vauMHxtN9",
        "colab_type": "code",
        "colab": {}
      },
      "source": [
        "# Apply dense layer(units=eng_vocab_size) at every time step of the decoder_output\n",
        "decoder_dense=TimeDistributed( Dense(eng_vocab_size,activation='softmax'))\n",
        "dense_output= decoder_dense(decoder_output)\n",
        "# dense_output shape (None,none, eng_vocab_size)\n"
      ],
      "execution_count": 0,
      "outputs": []
    },
    {
      "cell_type": "code",
      "metadata": {
        "id": "2b5krcGVysA7",
        "colab_type": "code",
        "colab": {}
      },
      "source": [
        "# Our model has two inputs, one to the encoder and other to the decoder. \n",
        "# outputs - Dense layer output\n",
        "model=Model([input_encoder,input_decoder],dense_output)"
      ],
      "execution_count": 0,
      "outputs": []
    },
    {
      "cell_type": "code",
      "metadata": {
        "id": "tm4Xr8380Duf",
        "colab_type": "code",
        "outputId": "d27aa9ea-d6e3-4c4f-e5e8-703f28de73e0",
        "colab": {
          "base_uri": "https://localhost:8080/",
          "height": 433
        }
      },
      "source": [
        "model.summary()"
      ],
      "execution_count": 30,
      "outputs": [
        {
          "output_type": "stream",
          "text": [
            "Model: \"model\"\n",
            "__________________________________________________________________________________________________\n",
            "Layer (type)                    Output Shape         Param #     Connected to                     \n",
            "==================================================================================================\n",
            "input_1 (InputLayer)            [(None, 9)]          0                                            \n",
            "__________________________________________________________________________________________________\n",
            "input_2 (InputLayer)            [(None, None)]       0                                            \n",
            "__________________________________________________________________________________________________\n",
            "embedding (Embedding)           (None, 9, 128)       707072      input_1[0][0]                    \n",
            "__________________________________________________________________________________________________\n",
            "embedding_1 (Embedding)         (None, None, 128)    288000      input_2[0][0]                    \n",
            "__________________________________________________________________________________________________\n",
            "lstm (LSTM)                     [(None, 256), (None, 394240      embedding[0][0]                  \n",
            "__________________________________________________________________________________________________\n",
            "lstm_1 (LSTM)                   [(None, None, 256),  394240      embedding_1[0][0]                \n",
            "                                                                 lstm[0][1]                       \n",
            "                                                                 lstm[0][2]                       \n",
            "__________________________________________________________________________________________________\n",
            "time_distributed (TimeDistribut (None, None, 2250)   578250      lstm_1[0][0]                     \n",
            "==================================================================================================\n",
            "Total params: 2,361,802\n",
            "Trainable params: 2,361,802\n",
            "Non-trainable params: 0\n",
            "__________________________________________________________________________________________________\n"
          ],
          "name": "stdout"
        }
      ]
    },
    {
      "cell_type": "code",
      "metadata": {
        "id": "G-csaFif0EoR",
        "colab_type": "code",
        "colab": {
          "base_uri": "https://localhost:8080/",
          "height": 381
        },
        "outputId": "2e06ba22-c53f-4b7e-8d7d-251644158bf2"
      },
      "source": [
        "# if input_decoder shape is (None,max_length)\n",
        "# Dense output shape is (None,max_length,eng_vocab_size), decoder_output (None,max_length)\n",
        "# Target data is just integers, while predicted data is a softmax output\n",
        "# we apply sparse_categorical_crossentropy instead of categorical_crossentropy\n",
        "model.compile(optimizer='rmsprop', loss='sparse_categorical_crossentropy')\n",
        "# Train the model\n",
        "model.fit([inp_lan, tar_lan_in], tar_lan_out,\n",
        "          batch_size=64,\n",
        "          epochs=10,\n",
        "          validation_split=0.2)"
      ],
      "execution_count": 31,
      "outputs": [
        {
          "output_type": "stream",
          "text": [
            "Epoch 1/10\n",
            "250/250 [==============================] - 3s 12ms/step - loss: 2.4532 - val_loss: 2.5397\n",
            "Epoch 2/10\n",
            "250/250 [==============================] - 2s 10ms/step - loss: 1.7478 - val_loss: 2.3112\n",
            "Epoch 3/10\n",
            "250/250 [==============================] - 2s 10ms/step - loss: 1.4649 - val_loss: 2.1281\n",
            "Epoch 4/10\n",
            "250/250 [==============================] - 2s 10ms/step - loss: 1.3057 - val_loss: 2.0712\n",
            "Epoch 5/10\n",
            "250/250 [==============================] - 2s 10ms/step - loss: 1.1817 - val_loss: 2.0401\n",
            "Epoch 6/10\n",
            "250/250 [==============================] - 2s 10ms/step - loss: 1.0793 - val_loss: 1.9920\n",
            "Epoch 7/10\n",
            "250/250 [==============================] - 2s 10ms/step - loss: 0.9958 - val_loss: 1.9653\n",
            "Epoch 8/10\n",
            "250/250 [==============================] - 2s 10ms/step - loss: 0.9241 - val_loss: 1.9798\n",
            "Epoch 9/10\n",
            "250/250 [==============================] - 2s 10ms/step - loss: 0.8626 - val_loss: 1.9705\n",
            "Epoch 10/10\n",
            "250/250 [==============================] - 2s 10ms/step - loss: 0.8059 - val_loss: 2.0047\n"
          ],
          "name": "stdout"
        },
        {
          "output_type": "execute_result",
          "data": {
            "text/plain": [
              "<tensorflow.python.keras.callbacks.History at 0x7f4370365dd8>"
            ]
          },
          "metadata": {
            "tags": []
          },
          "execution_count": 31
        }
      ]
    },
    {
      "cell_type": "code",
      "metadata": {
        "id": "jBTAf2121Ppc",
        "colab_type": "code",
        "outputId": "77b8e090-e8f0-488f-993c-81079e745f80",
        "colab": {
          "base_uri": "https://localhost:8080/",
          "height": 381
        }
      },
      "source": [
        "# Train the model\n",
        "model.fit([inp_lan, tar_lan_in], tar_lan_out,\n",
        "          batch_size=64,\n",
        "          epochs=10,\n",
        "          validation_split=0.2)"
      ],
      "execution_count": 32,
      "outputs": [
        {
          "output_type": "stream",
          "text": [
            "Epoch 1/10\n",
            "250/250 [==============================] - 2s 10ms/step - loss: 0.7556 - val_loss: 2.0020\n",
            "Epoch 2/10\n",
            "250/250 [==============================] - 2s 10ms/step - loss: 0.7058 - val_loss: 2.0044\n",
            "Epoch 3/10\n",
            "250/250 [==============================] - 2s 10ms/step - loss: 0.6606 - val_loss: 2.0303\n",
            "Epoch 4/10\n",
            "250/250 [==============================] - 2s 10ms/step - loss: 0.6198 - val_loss: 2.0382\n",
            "Epoch 5/10\n",
            "250/250 [==============================] - 2s 10ms/step - loss: 0.5797 - val_loss: 2.0392\n",
            "Epoch 6/10\n",
            "250/250 [==============================] - 2s 9ms/step - loss: 0.5456 - val_loss: 2.0836\n",
            "Epoch 7/10\n",
            "250/250 [==============================] - 2s 10ms/step - loss: 0.5092 - val_loss: 2.1024\n",
            "Epoch 8/10\n",
            "250/250 [==============================] - 2s 10ms/step - loss: 0.4808 - val_loss: 2.1048\n",
            "Epoch 9/10\n",
            "250/250 [==============================] - 2s 10ms/step - loss: 0.4546 - val_loss: 2.1533\n",
            "Epoch 10/10\n",
            "250/250 [==============================] - 2s 10ms/step - loss: 0.4275 - val_loss: 2.1492\n"
          ],
          "name": "stdout"
        },
        {
          "output_type": "execute_result",
          "data": {
            "text/plain": [
              "<tensorflow.python.keras.callbacks.History at 0x7f4308374fd0>"
            ]
          },
          "metadata": {
            "tags": []
          },
          "execution_count": 32
        }
      ]
    },
    {
      "cell_type": "markdown",
      "metadata": {
        "id": "FRygBgnJcr2a",
        "colab_type": "text"
      },
      "source": [
        "## Inference:\n"
      ]
    },
    {
      "cell_type": "code",
      "metadata": {
        "id": "WLdwAJfx5bBA",
        "colab_type": "code",
        "colab": {}
      },
      "source": [
        "#Encoder model for inference\n",
        "encoder_model=Model(input_encoder,encoder_lstm)\n",
        "# encoder_model takes a integer sequence of Italian language as input and returns hidden_state and cell_state"
      ],
      "execution_count": 0,
      "outputs": []
    },
    {
      "cell_type": "code",
      "metadata": {
        "id": "qDAMQ9QIUgFj",
        "colab_type": "code",
        "outputId": "f4c7025b-b47b-4dbe-a8a6-4e0928746a51",
        "colab": {
          "base_uri": "https://localhost:8080/",
          "height": 121
        }
      },
      "source": [
        "#encoder_model.summary(line_length=200)\n",
        "print(encoder_model.layers[1].weights[0][0][:10])\n",
        "print(model.layers[2].weights[0][0][:10])"
      ],
      "execution_count": 34,
      "outputs": [
        {
          "output_type": "stream",
          "text": [
            "tf.Tensor(\n",
            "[-0.01490658  0.16972525  0.07203316  0.01772093 -0.02092743 -0.02658156\n",
            "  0.05521247  0.00849848  0.02269514  0.08476242], shape=(10,), dtype=float32)\n",
            "tf.Tensor(\n",
            "[-0.01490658  0.16972525  0.07203316  0.01772093 -0.02092743 -0.02658156\n",
            "  0.05521247  0.00849848  0.02269514  0.08476242], shape=(10,), dtype=float32)\n"
          ],
          "name": "stdout"
        }
      ]
    },
    {
      "cell_type": "code",
      "metadata": {
        "id": "KXLJ1N7Dpn_9",
        "colab_type": "code",
        "outputId": "59c5dcfd-7f79-492a-dcef-3d3aad67c082",
        "colab": {
          "base_uri": "https://localhost:8080/",
          "height": 312
        }
      },
      "source": [
        "tf.keras.utils.plot_model(encoder_model, to_file='model_plot.png', show_shapes=True, show_layer_names=True)"
      ],
      "execution_count": 0,
      "outputs": [
        {
          "output_type": "execute_result",
          "data": {
            "image/png": "[encoded data removed]",
            "text/plain": [
              "<IPython.core.display.Image object>"
            ]
          },
          "metadata": {
            "tags": []
          },
          "execution_count": 82
        }
      ]
    },
    {
      "cell_type": "code",
      "metadata": {
        "id": "rmV_PxdYVKC0",
        "colab_type": "code",
        "colab": {}
      },
      "source": [
        "# Decoder states - shape is LSTM_Size\n",
        "decoder_state_h=Input(shape=(256))\n",
        "decoder_state_c=Input(shape=(256))\n",
        "decoder_state_inputs=[decoder_state_h,decoder_state_c]"
      ],
      "execution_count": 0,
      "outputs": []
    },
    {
      "cell_type": "code",
      "metadata": {
        "id": "rPl9OX1YXx5a",
        "colab_type": "code",
        "outputId": "280fbca2-7552-43d1-87ec-a02a0c7d67d7",
        "colab": {
          "base_uri": "https://localhost:8080/",
          "height": 35
        }
      },
      "source": [
        "input_decoder.shape"
      ],
      "execution_count": 0,
      "outputs": [
        {
          "output_type": "execute_result",
          "data": {
            "text/plain": [
              "TensorShape([None, None])"
            ]
          },
          "metadata": {
            "tags": []
          },
          "execution_count": 91
        }
      ]
    },
    {
      "cell_type": "code",
      "metadata": {
        "id": "DJg42LYeVSAX",
        "colab_type": "code",
        "colab": {}
      },
      "source": [
        "# Input to decoder is send to embedding layer\n",
        "decoder_embedding_output=decoder_embedding_layer(input_decoder)\n",
        "\n",
        "# Get the decoder outputs when a particular input and initial_state is given\n",
        "decoder_outputs,state_h,state_c=decoder_lstm(decoder_embedding_output,initial_state=decoder_state_inputs)\n",
        "decoder_states=[state_h,state_c]\n",
        "# Send the decoder outputs to the dense layer to get the predicted word\n",
        "decoder_outputs=decoder_dense(decoder_outputs)\n"
      ],
      "execution_count": 0,
      "outputs": []
    },
    {
      "cell_type": "code",
      "metadata": {
        "id": "WRHD8RnKVR8o",
        "colab_type": "code",
        "colab": {}
      },
      "source": [
        "# decoder model takes two inputs 1. Decoder input 2. Decoder initial states\n",
        "# returns two outputs 1. Decoder outputs 2. decoder states(hidden_state and cell state)\n",
        "decoder_model=Model([input_decoder]+decoder_state_inputs,[decoder_outputs]+decoder_states)"
      ],
      "execution_count": 0,
      "outputs": []
    },
    {
      "cell_type": "code",
      "metadata": {
        "id": "iba-UaNc1c25",
        "colab_type": "code",
        "outputId": "516b210c-2930-479d-e6b7-5cddda620300",
        "colab": {
          "base_uri": "https://localhost:8080/",
          "height": 421
        }
      },
      "source": [
        "tf.keras.utils.plot_model(decoder_model, to_file='model_plot.png', show_shapes=True, show_layer_names=True)"
      ],
      "execution_count": 0,
      "outputs": [
        {
          "output_type": "execute_result",
          "data": {
            "image/png": "[encoded data removed]",
            "text/plain": [
              "<IPython.core.display.Image object>"
            ]
          },
          "metadata": {
            "tags": []
          },
          "execution_count": 94
        }
      ]
    },
    {
      "cell_type": "code",
      "metadata": {
        "id": "WAnC_X8yVR6Z",
        "colab_type": "code",
        "outputId": "96440040-227c-4dce-e20b-8bd4e54a696e",
        "colab": {
          "base_uri": "https://localhost:8080/",
          "height": 399
        }
      },
      "source": [
        "decoder_model.summary(line_length=150)"
      ],
      "execution_count": 0,
      "outputs": [
        {
          "output_type": "stream",
          "text": [
            "Model: \"model_32\"\n",
            "______________________________________________________________________________________________________________________________________________________\n",
            "Layer (type)                                     Output Shape                     Param #           Connected to                                      \n",
            "======================================================================================================================================================\n",
            "input_55 (InputLayer)                            [(None, None)]                   0                                                                   \n",
            "______________________________________________________________________________________________________________________________________________________\n",
            "embedding_26 (Embedding)                         multiple                         288000            input_55[0][0]                                    \n",
            "______________________________________________________________________________________________________________________________________________________\n",
            "input_62 (InputLayer)                            [(None, 256)]                    0                                                                   \n",
            "______________________________________________________________________________________________________________________________________________________\n",
            "input_63 (InputLayer)                            [(None, 256)]                    0                                                                   \n",
            "______________________________________________________________________________________________________________________________________________________\n",
            "lstm_26 (LSTM)                                   multiple                         394240            embedding_26[4][0]                                \n",
            "                                                                                                    input_62[0][0]                                    \n",
            "                                                                                                    input_63[0][0]                                    \n",
            "______________________________________________________________________________________________________________________________________________________\n",
            "time_distributed_12 (TimeDistributed)            multiple                         578250            lstm_26[4][0]                                     \n",
            "======================================================================================================================================================\n",
            "Total params: 1,260,490\n",
            "Trainable params: 1,260,490\n",
            "Non-trainable params: 0\n",
            "______________________________________________________________________________________________________________________________________________________\n"
          ],
          "name": "stdout"
        }
      ]
    },
    {
      "cell_type": "code",
      "metadata": {
        "id": "ku4udwZxz7PR",
        "colab_type": "code",
        "colab": {}
      },
      "source": [
        "from prettytable import PrettyTable\n",
        "import random    \n",
        "x = PrettyTable()"
      ],
      "execution_count": 0,
      "outputs": []
    },
    {
      "cell_type": "code",
      "metadata": {
        "id": "MJF-asgqz7M-",
        "colab_type": "code",
        "colab": {}
      },
      "source": [
        "x.field_names = [\"Input data\", \"Actual data\", \"Predicted data\"]"
      ],
      "execution_count": 0,
      "outputs": []
    },
    {
      "cell_type": "code",
      "metadata": {
        "id": "ofG3PAyqnxJZ",
        "colab_type": "code",
        "outputId": "586f745e-2344-4d5f-9dfc-e1ec62536a85",
        "colab": {
          "base_uri": "https://localhost:8080/",
          "height": 260
        }
      },
      "source": [
        "for i in range(10):\n",
        "  index=random.randint(1,10000)\n",
        "  pred=inference(inp_lan[index])\n",
        "  x.add_row([ita_data[index],eng_out[index],pred])\n",
        "  # print('Input data is: ',ita_data[index])\n",
        "  # print('Actual data is: ',eng_out[index])\n",
        "  # print('Predicted data is:',pred)\n",
        "print(x)"
      ],
      "execution_count": 50,
      "outputs": [
        {
          "output_type": "stream",
          "text": [
            "+----------------------+----------------------+------------------------+\n",
            "|      Input data      |     Actual data      |     Predicted data     |\n",
            "+----------------------+----------------------+------------------------+\n",
            "|    siete grassi ?    | are you fat ? <end>  |   are you fat ? <end>  |\n",
            "|    sto ballando .    | i m dancing . <end>  |   i m dancing . <end>  |\n",
            "|     stai calma .     |  stay calm . <end>   |    stay calm . <end>   |\n",
            "|     tieni duro .     |  sit tight . <end>   |    sit tight . <end>   |\n",
            "|   siate clementi .   | be merciful . <end>  |   be merciful . <end>  |\n",
            "|   non ti muovere .   |  don t move . <end>  |  don t push it . <end> |\n",
            "| fallo in ogni caso . | do it anyway . <end> |  do it monday . <end>  |\n",
            "|    abbracci tom .    |   hug tom . <end>    |     keep up . <end>    |\n",
            "| non essere timida .  | don t be shy . <end> |  don t be shy . <end>  |\n",
            "|      usciamo !       | let s go out . <end> |    let s go . <end>    |\n",
            "+----------------------+----------------------+------------------------+\n"
          ],
          "name": "stdout"
        }
      ]
    },
    {
      "cell_type": "code",
      "metadata": {
        "id": "_mo97pJkVR4a",
        "colab_type": "code",
        "colab": {}
      },
      "source": [
        "def inference(seq):\n",
        "  '''\n",
        "    Function that takes Italian sequence and returns English sequence\n",
        "  '''\n",
        "  # Input the sequence to encoder_model and get the final timestep encoder_states(Hidden and cell state)\n",
        "  seq=seq.reshape(-1,9)\n",
        "  encoder_state_value=encoder_model.predict(seq)\n",
        "  encoder_state_value=encoder_state_value[1:]\n",
        "  # encoder_state_value[0] -- hidden_state -- shape (None,256)\n",
        "  # encoder_state_value[1] -- cell_state -- shape (None,256)\n",
        "\n",
        "  # Target word\n",
        "  target_word=np.zeros((1,1))\n",
        "  # <start>:1 , <end>:2 -- \n",
        "  target_word[0,0]=1\n",
        "  \n",
        "  stop_condition=False\n",
        "  sent=''\n",
        "  k=0\n",
        "  while not stop_condition:\n",
        "\n",
        "      # We are giving a target_word which represents <start> and encoder_states to the decoder_model\n",
        "      output,state_h,state_c=decoder_model.predict([target_word]+encoder_state_value)\n",
        "      # As the target word length is 1. We will only have one time step\n",
        "      encoder_state_value=[state_h,state_c]\n",
        "      # Output shape (1,eng_vocab_size). Find the word which the decoder predicted with max_probability\n",
        "      output=np.argmax(output,-1)\n",
        "      #print(output)\n",
        "      # The output is a integer sequence, to get back the word. We use our lookup table reverse_dict\n",
        "      sent=sent+' '+eng_index_word[int(output)]\n",
        "      k+=1\n",
        "      # If the max_length of the sequence is reached or the model predicted 2 (<end>) stop your model\n",
        "      if k>5 or output==2:\n",
        "        stop_condition=True\n",
        "      target_word=output.reshape(1,1)\n",
        "  \n",
        "  return sent\n",
        "\n",
        "\n",
        "\n"
      ],
      "execution_count": 0,
      "outputs": []
    },
    {
      "cell_type": "code",
      "metadata": {
        "id": "eQrxW6aNtGRe",
        "colab_type": "code",
        "colab": {}
      },
      "source": [
        ""
      ],
      "execution_count": 0,
      "outputs": []
    },
    {
      "cell_type": "code",
      "metadata": {
        "id": "6cS023VhtGOV",
        "colab_type": "code",
        "colab": {}
      },
      "source": [
        ""
      ],
      "execution_count": 0,
      "outputs": []
    },
    {
      "cell_type": "code",
      "metadata": {
        "id": "4AfL9l0YtGL3",
        "colab_type": "code",
        "colab": {}
      },
      "source": [
        ""
      ],
      "execution_count": 0,
      "outputs": []
    }
  ]
}